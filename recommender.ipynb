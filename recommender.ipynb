{
 "cells": [
  {
   "cell_type": "code",
   "execution_count": 92,
   "metadata": {},
   "outputs": [],
   "source": [
    "import pandas as pd\n",
    "import matplotlib.pyplot as plt\n",
    "from sklearn import *\n",
    "import json\n",
    "import numpy as np\n",
    "import string\n",
    "from datetime import *\n",
    "import re\n",
    "import seaborn as sns"
   ]
  },
  {
   "cell_type": "code",
   "execution_count": 26,
   "metadata": {},
   "outputs": [],
   "source": [
    "d1 = pd.read_json('all_movies.json').T\n",
    "d2 = pd.read_json('movies_3k.json').T\n",
    "d3 = pd.read_json('movies_6k.json').T\n",
    "d4 = pd.read_json('movies_9k.json').T\n",
    "#Transpose so that all features are placed as column headers"
   ]
  },
  {
   "cell_type": "code",
   "execution_count": 30,
   "metadata": {},
   "outputs": [
    {
     "data": {
      "text/plain": [
       "(21331, 14)"
      ]
     },
     "execution_count": 30,
     "metadata": {},
     "output_type": "execute_result"
    }
   ],
   "source": [
    "df = pd.concat([d1,d2,d3,d4])\n",
    "df.shape"
   ]
  },
  {
   "cell_type": "code",
   "execution_count": 31,
   "metadata": {},
   "outputs": [],
   "source": [
    "df.drop_duplicates(subset= ['title'],inplace = True)"
   ]
  },
  {
   "cell_type": "code",
   "execution_count": 32,
   "metadata": {},
   "outputs": [
    {
     "data": {
      "text/plain": [
       "(9930, 14)"
      ]
     },
     "execution_count": 32,
     "metadata": {},
     "output_type": "execute_result"
    }
   ],
   "source": [
    "df.shape"
   ]
  },
  {
   "cell_type": "code",
   "execution_count": 33,
   "metadata": {},
   "outputs": [
    {
     "data": {
      "text/plain": [
       "title              1\n",
       "release           35\n",
       "popularity         1\n",
       "budget             1\n",
       "genres             1\n",
       "overview           1\n",
       "language           1\n",
       "votes              1\n",
       "status             1\n",
       "cast               1\n",
       "director          73\n",
       "screenwriter    8112\n",
       "producer        1793\n",
       "music           9436\n",
       "dtype: int64"
      ]
     },
     "execution_count": 33,
     "metadata": {},
     "output_type": "execute_result"
    }
   ],
   "source": [
    "df.isna().sum()"
   ]
  },
  {
   "cell_type": "code",
   "execution_count": 34,
   "metadata": {},
   "outputs": [],
   "source": [
    "df.dropna(subset=['title', 'release'], inplace = True)"
   ]
  },
  {
   "cell_type": "code",
   "execution_count": 35,
   "metadata": {},
   "outputs": [
    {
     "data": {
      "text/plain": [
       "title              0\n",
       "release            0\n",
       "popularity         0\n",
       "budget             0\n",
       "genres             0\n",
       "overview           0\n",
       "language           0\n",
       "votes              0\n",
       "status             0\n",
       "cast               0\n",
       "director          49\n",
       "screenwriter    8079\n",
       "producer        1766\n",
       "music           9401\n",
       "dtype: int64"
      ]
     },
     "execution_count": 35,
     "metadata": {},
     "output_type": "execute_result"
    }
   ],
   "source": [
    "df.isna().sum()"
   ]
  },
  {
   "cell_type": "code",
   "execution_count": 36,
   "metadata": {},
   "outputs": [],
   "source": [
    "df[['release', 'votes']] = df[['release', 'votes']].astype('int64')\n",
    "df[['popularity', 'budget']] = df[['popularity','budget']].astype('float64')"
   ]
  },
  {
   "cell_type": "code",
   "execution_count": 37,
   "metadata": {},
   "outputs": [],
   "source": [
    "df.drop_duplicates(subset=['title'], ignore_index=True, inplace=True)\n",
    "# Drop instances where title is duplicated. Result of bad choice in search query\n",
    "df.set_index('title', inplace= True)"
   ]
  },
  {
   "cell_type": "code",
   "execution_count": 38,
   "metadata": {},
   "outputs": [],
   "source": [
    "df = df[np.logical_not(df['director'].isna() & df['screenwriter'].isna() & df['producer'].isna() & df['music'].isna())]\n",
    "#Filtered out movies whose director, screenwriter, producer and music director are all not available\n",
    "df = df[np.logical_not(df['screenwriter'].isna() & df['producer'].isna() & df['music'].isna())]"
   ]
  },
  {
   "cell_type": "code",
   "execution_count": 39,
   "metadata": {},
   "outputs": [],
   "source": [
    "df = df.dropna(subset=['director'])"
   ]
  },
  {
   "cell_type": "code",
   "execution_count": 40,
   "metadata": {},
   "outputs": [
    {
     "data": {
      "text/html": [
       "<div>\n",
       "<style scoped>\n",
       "    .dataframe tbody tr th:only-of-type {\n",
       "        vertical-align: middle;\n",
       "    }\n",
       "\n",
       "    .dataframe tbody tr th {\n",
       "        vertical-align: top;\n",
       "    }\n",
       "\n",
       "    .dataframe thead th {\n",
       "        text-align: right;\n",
       "    }\n",
       "</style>\n",
       "<table border=\"1\" class=\"dataframe\">\n",
       "  <thead>\n",
       "    <tr style=\"text-align: right;\">\n",
       "      <th></th>\n",
       "      <th>release</th>\n",
       "      <th>popularity</th>\n",
       "      <th>budget</th>\n",
       "      <th>genres</th>\n",
       "      <th>overview</th>\n",
       "      <th>language</th>\n",
       "      <th>votes</th>\n",
       "      <th>cast</th>\n",
       "      <th>director</th>\n",
       "      <th>screenwriter</th>\n",
       "      <th>producer</th>\n",
       "      <th>music</th>\n",
       "    </tr>\n",
       "    <tr>\n",
       "      <th>status</th>\n",
       "      <th></th>\n",
       "      <th></th>\n",
       "      <th></th>\n",
       "      <th></th>\n",
       "      <th></th>\n",
       "      <th></th>\n",
       "      <th></th>\n",
       "      <th></th>\n",
       "      <th></th>\n",
       "      <th></th>\n",
       "      <th></th>\n",
       "      <th></th>\n",
       "    </tr>\n",
       "  </thead>\n",
       "  <tbody>\n",
       "    <tr>\n",
       "      <th>Planned</th>\n",
       "      <td>2</td>\n",
       "      <td>2</td>\n",
       "      <td>2</td>\n",
       "      <td>2</td>\n",
       "      <td>2</td>\n",
       "      <td>2</td>\n",
       "      <td>2</td>\n",
       "      <td>2</td>\n",
       "      <td>2</td>\n",
       "      <td>0</td>\n",
       "      <td>2</td>\n",
       "      <td>0</td>\n",
       "    </tr>\n",
       "    <tr>\n",
       "      <th>Post Production</th>\n",
       "      <td>3</td>\n",
       "      <td>3</td>\n",
       "      <td>3</td>\n",
       "      <td>3</td>\n",
       "      <td>3</td>\n",
       "      <td>3</td>\n",
       "      <td>3</td>\n",
       "      <td>3</td>\n",
       "      <td>3</td>\n",
       "      <td>0</td>\n",
       "      <td>3</td>\n",
       "      <td>0</td>\n",
       "    </tr>\n",
       "    <tr>\n",
       "      <th>Released</th>\n",
       "      <td>8228</td>\n",
       "      <td>8228</td>\n",
       "      <td>8228</td>\n",
       "      <td>8228</td>\n",
       "      <td>8228</td>\n",
       "      <td>8228</td>\n",
       "      <td>8228</td>\n",
       "      <td>8228</td>\n",
       "      <td>8228</td>\n",
       "      <td>1816</td>\n",
       "      <td>8120</td>\n",
       "      <td>494</td>\n",
       "    </tr>\n",
       "  </tbody>\n",
       "</table>\n",
       "</div>"
      ],
      "text/plain": [
       "                 release  popularity  budget  genres  overview  language  \\\n",
       "status                                                                     \n",
       "Planned                2           2       2       2         2         2   \n",
       "Post Production        3           3       3       3         3         3   \n",
       "Released            8228        8228    8228    8228      8228      8228   \n",
       "\n",
       "                 votes  cast  director  screenwriter  producer  music  \n",
       "status                                                                 \n",
       "Planned              2     2         2             0         2      0  \n",
       "Post Production      3     3         3             0         3      0  \n",
       "Released          8228  8228      8228          1816      8120    494  "
      ]
     },
     "execution_count": 40,
     "metadata": {},
     "output_type": "execute_result"
    }
   ],
   "source": [
    "df.groupby('status').count()"
   ]
  },
  {
   "cell_type": "code",
   "execution_count": 41,
   "metadata": {},
   "outputs": [],
   "source": [
    "df = df[df['status'] == 'Released']"
   ]
  },
  {
   "cell_type": "code",
   "execution_count": 44,
   "metadata": {},
   "outputs": [],
   "source": [
    "def isEmpty(lst):\n",
    "    if lst == []:\n",
    "        return True\n",
    "    return False"
   ]
  },
  {
   "cell_type": "code",
   "execution_count": 45,
   "metadata": {},
   "outputs": [],
   "source": [
    "exists = []\n",
    "for cast in df['cast']:\n",
    "    exists.append(isEmpty(cast))\n",
    "exists = np.logical_not(exists)\n",
    "#Movies for which the cast has not been recorded"
   ]
  },
  {
   "cell_type": "code",
   "execution_count": 46,
   "metadata": {},
   "outputs": [],
   "source": [
    "df = df[exists]"
   ]
  },
  {
   "cell_type": "code",
   "execution_count": 47,
   "metadata": {},
   "outputs": [
    {
     "data": {
      "text/html": [
       "<div>\n",
       "<style scoped>\n",
       "    .dataframe tbody tr th:only-of-type {\n",
       "        vertical-align: middle;\n",
       "    }\n",
       "\n",
       "    .dataframe tbody tr th {\n",
       "        vertical-align: top;\n",
       "    }\n",
       "\n",
       "    .dataframe thead th {\n",
       "        text-align: right;\n",
       "    }\n",
       "</style>\n",
       "<table border=\"1\" class=\"dataframe\">\n",
       "  <thead>\n",
       "    <tr style=\"text-align: right;\">\n",
       "      <th></th>\n",
       "      <th>release</th>\n",
       "      <th>popularity</th>\n",
       "      <th>budget</th>\n",
       "      <th>genres</th>\n",
       "      <th>overview</th>\n",
       "      <th>language</th>\n",
       "      <th>votes</th>\n",
       "      <th>status</th>\n",
       "      <th>cast</th>\n",
       "      <th>director</th>\n",
       "      <th>screenwriter</th>\n",
       "      <th>producer</th>\n",
       "      <th>music</th>\n",
       "    </tr>\n",
       "    <tr>\n",
       "      <th>title</th>\n",
       "      <th></th>\n",
       "      <th></th>\n",
       "      <th></th>\n",
       "      <th></th>\n",
       "      <th></th>\n",
       "      <th></th>\n",
       "      <th></th>\n",
       "      <th></th>\n",
       "      <th></th>\n",
       "      <th></th>\n",
       "      <th></th>\n",
       "      <th></th>\n",
       "      <th></th>\n",
       "    </tr>\n",
       "  </thead>\n",
       "  <tbody>\n",
       "    <tr>\n",
       "      <th>All About Eve</th>\n",
       "      <td>1950</td>\n",
       "      <td>18.255</td>\n",
       "      <td>1400000.0</td>\n",
       "      <td>[Drama]</td>\n",
       "      <td>From the moment she glimpses her idol at the s...</td>\n",
       "      <td>en</td>\n",
       "      <td>879</td>\n",
       "      <td>Released</td>\n",
       "      <td>[Bette Davis, Anne Baxter, George Sanders]</td>\n",
       "      <td>Joseph L. Mankiewicz</td>\n",
       "      <td>Joseph L. Mankiewicz</td>\n",
       "      <td>Darryl F. Zanuck</td>\n",
       "      <td>Urban Thielmann</td>\n",
       "    </tr>\n",
       "    <tr>\n",
       "      <th>Sunset Boulevard</th>\n",
       "      <td>1950</td>\n",
       "      <td>16.261</td>\n",
       "      <td>1752000.0</td>\n",
       "      <td>[Drama]</td>\n",
       "      <td>A hack screenwriter writes a screenplay for a ...</td>\n",
       "      <td>en</td>\n",
       "      <td>1396</td>\n",
       "      <td>Released</td>\n",
       "      <td>[William Holden, Gloria Swanson, Erich von Str...</td>\n",
       "      <td>Billy Wilder</td>\n",
       "      <td>Billy Wilder</td>\n",
       "      <td>Charles Brackett</td>\n",
       "      <td>None</td>\n",
       "    </tr>\n",
       "    <tr>\n",
       "      <th>In a Lonely Place</th>\n",
       "      <td>1950</td>\n",
       "      <td>9.921</td>\n",
       "      <td>0.0</td>\n",
       "      <td>[Mystery, Thriller]</td>\n",
       "      <td>An aspiring actress begins to suspect that her...</td>\n",
       "      <td>en</td>\n",
       "      <td>269</td>\n",
       "      <td>Released</td>\n",
       "      <td>[Humphrey Bogart, Gloria Grahame, Frank Lovejoy]</td>\n",
       "      <td>Nicholas Ray</td>\n",
       "      <td>Andrew Solt</td>\n",
       "      <td>Robert Lord</td>\n",
       "      <td>None</td>\n",
       "    </tr>\n",
       "    <tr>\n",
       "      <th>A Streetcar Named Desire</th>\n",
       "      <td>1951</td>\n",
       "      <td>13.575</td>\n",
       "      <td>1800000.0</td>\n",
       "      <td>[Drama]</td>\n",
       "      <td>Disturbed Blanche DuBois moves in with her sis...</td>\n",
       "      <td>en</td>\n",
       "      <td>744</td>\n",
       "      <td>Released</td>\n",
       "      <td>[Vivien Leigh, Marlon Brando, Kim Hunter]</td>\n",
       "      <td>Elia Kazan</td>\n",
       "      <td>Tennessee Williams</td>\n",
       "      <td>Charles K. Feldman</td>\n",
       "      <td>None</td>\n",
       "    </tr>\n",
       "    <tr>\n",
       "      <th>An American in Paris</th>\n",
       "      <td>1951</td>\n",
       "      <td>11.251</td>\n",
       "      <td>2723903.0</td>\n",
       "      <td>[Comedy, Drama, Music, Romance]</td>\n",
       "      <td>Jerry Mulligan is an exuberant American expatr...</td>\n",
       "      <td>en</td>\n",
       "      <td>318</td>\n",
       "      <td>Released</td>\n",
       "      <td>[Gene Kelly, Leslie Caron, Oscar Levant]</td>\n",
       "      <td>Vincente Minnelli</td>\n",
       "      <td>Alan Jay Lerner</td>\n",
       "      <td>Arthur Freed</td>\n",
       "      <td>George Gershwin</td>\n",
       "    </tr>\n",
       "  </tbody>\n",
       "</table>\n",
       "</div>"
      ],
      "text/plain": [
       "                          release  popularity     budget  \\\n",
       "title                                                      \n",
       "All About Eve                1950      18.255  1400000.0   \n",
       "Sunset Boulevard             1950      16.261  1752000.0   \n",
       "In a Lonely Place            1950       9.921        0.0   \n",
       "A Streetcar Named Desire     1951      13.575  1800000.0   \n",
       "An American in Paris         1951      11.251  2723903.0   \n",
       "\n",
       "                                                   genres  \\\n",
       "title                                                       \n",
       "All About Eve                                     [Drama]   \n",
       "Sunset Boulevard                                  [Drama]   \n",
       "In a Lonely Place                     [Mystery, Thriller]   \n",
       "A Streetcar Named Desire                          [Drama]   \n",
       "An American in Paris      [Comedy, Drama, Music, Romance]   \n",
       "\n",
       "                                                                   overview  \\\n",
       "title                                                                         \n",
       "All About Eve             From the moment she glimpses her idol at the s...   \n",
       "Sunset Boulevard          A hack screenwriter writes a screenplay for a ...   \n",
       "In a Lonely Place         An aspiring actress begins to suspect that her...   \n",
       "A Streetcar Named Desire  Disturbed Blanche DuBois moves in with her sis...   \n",
       "An American in Paris      Jerry Mulligan is an exuberant American expatr...   \n",
       "\n",
       "                         language  votes    status  \\\n",
       "title                                                \n",
       "All About Eve                  en    879  Released   \n",
       "Sunset Boulevard               en   1396  Released   \n",
       "In a Lonely Place              en    269  Released   \n",
       "A Streetcar Named Desire       en    744  Released   \n",
       "An American in Paris           en    318  Released   \n",
       "\n",
       "                                                                       cast  \\\n",
       "title                                                                         \n",
       "All About Eve                    [Bette Davis, Anne Baxter, George Sanders]   \n",
       "Sunset Boulevard          [William Holden, Gloria Swanson, Erich von Str...   \n",
       "In a Lonely Place          [Humphrey Bogart, Gloria Grahame, Frank Lovejoy]   \n",
       "A Streetcar Named Desire          [Vivien Leigh, Marlon Brando, Kim Hunter]   \n",
       "An American in Paris               [Gene Kelly, Leslie Caron, Oscar Levant]   \n",
       "\n",
       "                                      director          screenwriter  \\\n",
       "title                                                                  \n",
       "All About Eve             Joseph L. Mankiewicz  Joseph L. Mankiewicz   \n",
       "Sunset Boulevard                  Billy Wilder          Billy Wilder   \n",
       "In a Lonely Place                 Nicholas Ray           Andrew Solt   \n",
       "A Streetcar Named Desire            Elia Kazan    Tennessee Williams   \n",
       "An American in Paris         Vincente Minnelli       Alan Jay Lerner   \n",
       "\n",
       "                                    producer            music  \n",
       "title                                                          \n",
       "All About Eve               Darryl F. Zanuck  Urban Thielmann  \n",
       "Sunset Boulevard            Charles Brackett             None  \n",
       "In a Lonely Place                Robert Lord             None  \n",
       "A Streetcar Named Desire  Charles K. Feldman             None  \n",
       "An American in Paris            Arthur Freed  George Gershwin  "
      ]
     },
     "execution_count": 47,
     "metadata": {},
     "output_type": "execute_result"
    }
   ],
   "source": [
    "df.head()"
   ]
  },
  {
   "cell_type": "code",
   "execution_count": 48,
   "metadata": {},
   "outputs": [],
   "source": [
    "df.isna().sum()\n",
    "df.drop(['screenwriter', 'music', 'producer'], 1, inplace = True)"
   ]
  },
  {
   "cell_type": "code",
   "execution_count": 49,
   "metadata": {},
   "outputs": [],
   "source": [
    "def search_index(data:pd.DataFrame, query):\n",
    "    bool_list = []\n",
    "    for i in list(data.index):\n",
    "        bool_list.append(query.lower() in i.lower())\n",
    "    return data.loc[bool_list]"
   ]
  },
  {
   "cell_type": "code",
   "execution_count": 50,
   "metadata": {},
   "outputs": [],
   "source": [
    "genres = []\n",
    "for i, n in df.iterrows():\n",
    "    genres.extend(n['genres'])"
   ]
  },
  {
   "cell_type": "code",
   "execution_count": 51,
   "metadata": {},
   "outputs": [],
   "source": [
    "genre_dict = {}"
   ]
  },
  {
   "cell_type": "code",
   "execution_count": 52,
   "metadata": {},
   "outputs": [],
   "source": [
    "for genre in np.unique(genres):\n",
    "    genre_dict[genre] = []\n",
    "    for idx, row in df.iterrows():\n",
    "        genre_dict[genre].append(int(genre in row['genres']))"
   ]
  },
  {
   "cell_type": "code",
   "execution_count": 53,
   "metadata": {},
   "outputs": [],
   "source": [
    "for genre in genre_dict.keys():\n",
    "    df[genre] = genre_dict[genre]"
   ]
  },
  {
   "cell_type": "code",
   "execution_count": 54,
   "metadata": {},
   "outputs": [],
   "source": [
    "y = df[np.unique(genres)]"
   ]
  },
  {
   "cell_type": "code",
   "execution_count": 55,
   "metadata": {},
   "outputs": [],
   "source": [
    "feature_cols = ['release', 'popularity', 'budget', 'genres', 'overview', 'language',\n",
    "       'votes', 'status', 'cast', 'director']"
   ]
  },
  {
   "cell_type": "code",
   "execution_count": 56,
   "metadata": {},
   "outputs": [],
   "source": [
    "X = df[feature_cols]"
   ]
  },
  {
   "cell_type": "code",
   "execution_count": 100,
   "metadata": {},
   "outputs": [
    {
     "name": "stdout",
     "output_type": "stream",
     "text": [
      "Action 1636 6547\n",
      "Comedy 3100 5083\n",
      "Drama 3985 4198\n",
      "Romance 1558 6625\n",
      "Thriller 1863 6320\n"
     ]
    }
   ],
   "source": [
    "for genre in np.unique(genres):\n",
    "    if df.groupby(genre).count()['release'][1]/len(df) > 0.15:\n",
    "        print(genre,df.groupby(genre).count()['release'][1], df.groupby(genre).count()['release'][0] )"
   ]
  },
  {
   "cell_type": "markdown",
   "metadata": {},
   "source": [
    "From the samples, it can be deduced that genres such as Action, Comedy, Drama, Romance and Thriller are more common than the others (i.e there are atleast 15% movies labelled under the genres). "
   ]
  },
  {
   "cell_type": "markdown",
   "metadata": {},
   "source": [
    "Next, we plot a correlation matrix between various genres to see how likely it is that if a movie is labelled with genre \"X\", it is also labelled with genre \"Y\". For the sake of convenience, we only check genres having a correlation rate of more than 25%"
   ]
  },
  {
   "cell_type": "code",
   "execution_count": 111,
   "metadata": {},
   "outputs": [
    {
     "data": {
      "text/html": [
       "<div>\n",
       "<style scoped>\n",
       "    .dataframe tbody tr th:only-of-type {\n",
       "        vertical-align: middle;\n",
       "    }\n",
       "\n",
       "    .dataframe tbody tr th {\n",
       "        vertical-align: top;\n",
       "    }\n",
       "\n",
       "    .dataframe thead th {\n",
       "        text-align: right;\n",
       "    }\n",
       "</style>\n",
       "<table border=\"1\" class=\"dataframe\">\n",
       "  <thead>\n",
       "    <tr style=\"text-align: right;\">\n",
       "      <th></th>\n",
       "      <th>Action</th>\n",
       "      <th>Adventure</th>\n",
       "      <th>Animation</th>\n",
       "      <th>Crime</th>\n",
       "      <th>Family</th>\n",
       "      <th>History</th>\n",
       "      <th>Mystery</th>\n",
       "      <th>Thriller</th>\n",
       "      <th>War</th>\n",
       "    </tr>\n",
       "  </thead>\n",
       "  <tbody>\n",
       "    <tr>\n",
       "      <th>Action</th>\n",
       "      <td>NaN</td>\n",
       "      <td>0.332386</td>\n",
       "      <td>NaN</td>\n",
       "      <td>NaN</td>\n",
       "      <td>NaN</td>\n",
       "      <td>NaN</td>\n",
       "      <td>NaN</td>\n",
       "      <td>NaN</td>\n",
       "      <td>NaN</td>\n",
       "    </tr>\n",
       "    <tr>\n",
       "      <th>Adventure</th>\n",
       "      <td>0.332386</td>\n",
       "      <td>NaN</td>\n",
       "      <td>NaN</td>\n",
       "      <td>NaN</td>\n",
       "      <td>0.280998</td>\n",
       "      <td>NaN</td>\n",
       "      <td>NaN</td>\n",
       "      <td>NaN</td>\n",
       "      <td>NaN</td>\n",
       "    </tr>\n",
       "    <tr>\n",
       "      <th>Animation</th>\n",
       "      <td>NaN</td>\n",
       "      <td>NaN</td>\n",
       "      <td>NaN</td>\n",
       "      <td>NaN</td>\n",
       "      <td>0.480970</td>\n",
       "      <td>NaN</td>\n",
       "      <td>NaN</td>\n",
       "      <td>NaN</td>\n",
       "      <td>NaN</td>\n",
       "    </tr>\n",
       "    <tr>\n",
       "      <th>Crime</th>\n",
       "      <td>NaN</td>\n",
       "      <td>NaN</td>\n",
       "      <td>NaN</td>\n",
       "      <td>NaN</td>\n",
       "      <td>NaN</td>\n",
       "      <td>NaN</td>\n",
       "      <td>NaN</td>\n",
       "      <td>0.306897</td>\n",
       "      <td>NaN</td>\n",
       "    </tr>\n",
       "    <tr>\n",
       "      <th>Family</th>\n",
       "      <td>NaN</td>\n",
       "      <td>0.280998</td>\n",
       "      <td>0.48097</td>\n",
       "      <td>NaN</td>\n",
       "      <td>NaN</td>\n",
       "      <td>NaN</td>\n",
       "      <td>NaN</td>\n",
       "      <td>NaN</td>\n",
       "      <td>NaN</td>\n",
       "    </tr>\n",
       "    <tr>\n",
       "      <th>History</th>\n",
       "      <td>NaN</td>\n",
       "      <td>NaN</td>\n",
       "      <td>NaN</td>\n",
       "      <td>NaN</td>\n",
       "      <td>NaN</td>\n",
       "      <td>NaN</td>\n",
       "      <td>NaN</td>\n",
       "      <td>NaN</td>\n",
       "      <td>0.279347</td>\n",
       "    </tr>\n",
       "    <tr>\n",
       "      <th>Mystery</th>\n",
       "      <td>NaN</td>\n",
       "      <td>NaN</td>\n",
       "      <td>NaN</td>\n",
       "      <td>NaN</td>\n",
       "      <td>NaN</td>\n",
       "      <td>NaN</td>\n",
       "      <td>NaN</td>\n",
       "      <td>0.278185</td>\n",
       "      <td>NaN</td>\n",
       "    </tr>\n",
       "    <tr>\n",
       "      <th>Thriller</th>\n",
       "      <td>NaN</td>\n",
       "      <td>NaN</td>\n",
       "      <td>NaN</td>\n",
       "      <td>0.306897</td>\n",
       "      <td>NaN</td>\n",
       "      <td>NaN</td>\n",
       "      <td>0.278185</td>\n",
       "      <td>NaN</td>\n",
       "      <td>NaN</td>\n",
       "    </tr>\n",
       "    <tr>\n",
       "      <th>War</th>\n",
       "      <td>NaN</td>\n",
       "      <td>NaN</td>\n",
       "      <td>NaN</td>\n",
       "      <td>NaN</td>\n",
       "      <td>NaN</td>\n",
       "      <td>0.279347</td>\n",
       "      <td>NaN</td>\n",
       "      <td>NaN</td>\n",
       "      <td>NaN</td>\n",
       "    </tr>\n",
       "  </tbody>\n",
       "</table>\n",
       "</div>"
      ],
      "text/plain": [
       "             Action  Adventure  Animation     Crime    Family   History  \\\n",
       "Action          NaN   0.332386        NaN       NaN       NaN       NaN   \n",
       "Adventure  0.332386        NaN        NaN       NaN  0.280998       NaN   \n",
       "Animation       NaN        NaN        NaN       NaN  0.480970       NaN   \n",
       "Crime           NaN        NaN        NaN       NaN       NaN       NaN   \n",
       "Family          NaN   0.280998    0.48097       NaN       NaN       NaN   \n",
       "History         NaN        NaN        NaN       NaN       NaN       NaN   \n",
       "Mystery         NaN        NaN        NaN       NaN       NaN       NaN   \n",
       "Thriller        NaN        NaN        NaN  0.306897       NaN       NaN   \n",
       "War             NaN        NaN        NaN       NaN       NaN  0.279347   \n",
       "\n",
       "            Mystery  Thriller       War  \n",
       "Action          NaN       NaN       NaN  \n",
       "Adventure       NaN       NaN       NaN  \n",
       "Animation       NaN       NaN       NaN  \n",
       "Crime           NaN  0.306897       NaN  \n",
       "Family          NaN       NaN       NaN  \n",
       "History         NaN       NaN  0.279347  \n",
       "Mystery         NaN  0.278185       NaN  \n",
       "Thriller   0.278185       NaN       NaN  \n",
       "War             NaN       NaN       NaN  "
      ]
     },
     "execution_count": 111,
     "metadata": {},
     "output_type": "execute_result"
    }
   ],
   "source": [
    "y.corr()[(y.corr()>0.25) & (y.corr() < 1.0)].dropna(how = 'all').dropna(how = 'all', axis= 1)"
   ]
  },
  {
   "cell_type": "markdown",
   "metadata": {},
   "source": [
    "Some of these correlation rates make sense. Action movies are generally associated with an adventure theme, and a lot of animated movies are considered family-friendly.\n",
    "\n",
    "Thrillers are generally associated with crime and mystery, whereas a significant number of historical films depict war"
   ]
  },
  {
   "cell_type": "code",
   "execution_count": 195,
   "metadata": {},
   "outputs": [],
   "source": [
    "cols = ['Action', 'Comedy', 'Romance', 'Drama', 'Thriller']\n",
    "my_dict = {}\n",
    "for genre in y.columns:\n",
    "    new_dict = {}\n",
    "    for _genre in cols:\n",
    "        if genre!= _genre:\n",
    "            new_dict[_genre] = round(len(y[(y[genre] == 1) & (y[_genre] == 1)])/len(y[y[_genre] == 1]), 5)*100\n",
    "            my_dict[genre] = new_dict\n",
    "#             print(genre, _genre, (len(y[(y[genre] == 1) & (y[_genre] == 1)]))/len(y[y[genre] == 1]))"
   ]
  },
  {
   "cell_type": "code",
   "execution_count": 196,
   "metadata": {},
   "outputs": [
    {
     "data": {
      "text/html": [
       "<div>\n",
       "<style scoped>\n",
       "    .dataframe tbody tr th:only-of-type {\n",
       "        vertical-align: middle;\n",
       "    }\n",
       "\n",
       "    .dataframe tbody tr th {\n",
       "        vertical-align: top;\n",
       "    }\n",
       "\n",
       "    .dataframe thead th {\n",
       "        text-align: right;\n",
       "    }\n",
       "</style>\n",
       "<table border=\"1\" class=\"dataframe\">\n",
       "  <thead>\n",
       "    <tr style=\"text-align: right;\">\n",
       "      <th></th>\n",
       "      <th>Action</th>\n",
       "      <th>Adventure</th>\n",
       "      <th>Animation</th>\n",
       "      <th>Comedy</th>\n",
       "      <th>Crime</th>\n",
       "      <th>Documentary</th>\n",
       "      <th>Drama</th>\n",
       "      <th>Family</th>\n",
       "      <th>Fantasy</th>\n",
       "      <th>History</th>\n",
       "      <th>Horror</th>\n",
       "      <th>Music</th>\n",
       "      <th>Mystery</th>\n",
       "      <th>Romance</th>\n",
       "      <th>Science Fiction</th>\n",
       "      <th>TV Movie</th>\n",
       "      <th>Thriller</th>\n",
       "      <th>War</th>\n",
       "      <th>Western</th>\n",
       "    </tr>\n",
       "  </thead>\n",
       "  <tbody>\n",
       "    <tr>\n",
       "      <th>Comedy</th>\n",
       "      <td>13.677</td>\n",
       "      <td>12.258</td>\n",
       "      <td>6.677</td>\n",
       "      <td>NaN</td>\n",
       "      <td>10.484</td>\n",
       "      <td>0.871</td>\n",
       "      <td>35.968</td>\n",
       "      <td>14.355</td>\n",
       "      <td>9.226</td>\n",
       "      <td>0.871</td>\n",
       "      <td>5.839</td>\n",
       "      <td>5.258</td>\n",
       "      <td>2.452</td>\n",
       "      <td>28.548</td>\n",
       "      <td>5.968</td>\n",
       "      <td>0.742</td>\n",
       "      <td>6.097</td>\n",
       "      <td>1.161</td>\n",
       "      <td>1.355</td>\n",
       "    </tr>\n",
       "    <tr>\n",
       "      <th>Romance</th>\n",
       "      <td>4.236</td>\n",
       "      <td>5.841</td>\n",
       "      <td>1.540</td>\n",
       "      <td>56.804</td>\n",
       "      <td>4.942</td>\n",
       "      <td>0.000</td>\n",
       "      <td>67.137</td>\n",
       "      <td>4.685</td>\n",
       "      <td>7.317</td>\n",
       "      <td>3.017</td>\n",
       "      <td>1.155</td>\n",
       "      <td>6.611</td>\n",
       "      <td>2.888</td>\n",
       "      <td>NaN</td>\n",
       "      <td>3.081</td>\n",
       "      <td>0.578</td>\n",
       "      <td>6.226</td>\n",
       "      <td>3.081</td>\n",
       "      <td>1.091</td>\n",
       "    </tr>\n",
       "    <tr>\n",
       "      <th>Drama</th>\n",
       "      <td>11.543</td>\n",
       "      <td>7.353</td>\n",
       "      <td>1.656</td>\n",
       "      <td>27.980</td>\n",
       "      <td>16.412</td>\n",
       "      <td>0.527</td>\n",
       "      <td>NaN</td>\n",
       "      <td>4.241</td>\n",
       "      <td>4.718</td>\n",
       "      <td>7.403</td>\n",
       "      <td>4.291</td>\n",
       "      <td>4.316</td>\n",
       "      <td>7.905</td>\n",
       "      <td>26.248</td>\n",
       "      <td>4.391</td>\n",
       "      <td>0.903</td>\n",
       "      <td>21.706</td>\n",
       "      <td>5.370</td>\n",
       "      <td>1.531</td>\n",
       "    </tr>\n",
       "    <tr>\n",
       "      <th>Thriller</th>\n",
       "      <td>37.466</td>\n",
       "      <td>12.238</td>\n",
       "      <td>0.644</td>\n",
       "      <td>10.145</td>\n",
       "      <td>34.085</td>\n",
       "      <td>0.215</td>\n",
       "      <td>46.430</td>\n",
       "      <td>0.537</td>\n",
       "      <td>4.455</td>\n",
       "      <td>1.986</td>\n",
       "      <td>21.954</td>\n",
       "      <td>0.054</td>\n",
       "      <td>20.666</td>\n",
       "      <td>5.207</td>\n",
       "      <td>14.707</td>\n",
       "      <td>0.805</td>\n",
       "      <td>NaN</td>\n",
       "      <td>2.040</td>\n",
       "      <td>0.751</td>\n",
       "    </tr>\n",
       "    <tr>\n",
       "      <th>Action</th>\n",
       "      <td>NaN</td>\n",
       "      <td>37.286</td>\n",
       "      <td>4.707</td>\n",
       "      <td>25.917</td>\n",
       "      <td>24.694</td>\n",
       "      <td>0.489</td>\n",
       "      <td>28.117</td>\n",
       "      <td>5.746</td>\n",
       "      <td>11.369</td>\n",
       "      <td>3.362</td>\n",
       "      <td>7.090</td>\n",
       "      <td>0.672</td>\n",
       "      <td>5.134</td>\n",
       "      <td>4.034</td>\n",
       "      <td>24.328</td>\n",
       "      <td>0.611</td>\n",
       "      <td>42.665</td>\n",
       "      <td>4.768</td>\n",
       "      <td>3.056</td>\n",
       "    </tr>\n",
       "  </tbody>\n",
       "</table>\n",
       "</div>"
      ],
      "text/plain": [
       "          Action  Adventure  Animation  Comedy   Crime  Documentary   Drama  \\\n",
       "Comedy    13.677     12.258      6.677     NaN  10.484        0.871  35.968   \n",
       "Romance    4.236      5.841      1.540  56.804   4.942        0.000  67.137   \n",
       "Drama     11.543      7.353      1.656  27.980  16.412        0.527     NaN   \n",
       "Thriller  37.466     12.238      0.644  10.145  34.085        0.215  46.430   \n",
       "Action       NaN     37.286      4.707  25.917  24.694        0.489  28.117   \n",
       "\n",
       "          Family  Fantasy  History  Horror  Music  Mystery  Romance  \\\n",
       "Comedy    14.355    9.226    0.871   5.839  5.258    2.452   28.548   \n",
       "Romance    4.685    7.317    3.017   1.155  6.611    2.888      NaN   \n",
       "Drama      4.241    4.718    7.403   4.291  4.316    7.905   26.248   \n",
       "Thriller   0.537    4.455    1.986  21.954  0.054   20.666    5.207   \n",
       "Action     5.746   11.369    3.362   7.090  0.672    5.134    4.034   \n",
       "\n",
       "          Science Fiction  TV Movie  Thriller    War  Western  \n",
       "Comedy              5.968     0.742     6.097  1.161    1.355  \n",
       "Romance             3.081     0.578     6.226  3.081    1.091  \n",
       "Drama               4.391     0.903    21.706  5.370    1.531  \n",
       "Thriller           14.707     0.805       NaN  2.040    0.751  \n",
       "Action             24.328     0.611    42.665  4.768    3.056  "
      ]
     },
     "execution_count": 196,
     "metadata": {},
     "output_type": "execute_result"
    }
   ],
   "source": [
    "pd.DataFrame(my_dict)"
   ]
  },
  {
   "cell_type": "markdown",
   "metadata": {},
   "source": [
    "We now create a different matrix, which plots the 5 most popular genres, versus the other genres. It shows what percentage of movies of a certain genre are labelled under other genres as well. For instance, if we look at Action and Adventure, we see 37.286 % , which implies that 37% of Action movies are also labelled under Adventure. This better explains the correlation and may also uncover certain correlations such as the one between Drama and Romance: 67% of Romance movies are also labelled under Drama"
   ]
  },
  {
   "cell_type": "code",
   "execution_count": 57,
   "metadata": {},
   "outputs": [],
   "source": [
    "tts = model_selection.train_test_split"
   ]
  },
  {
   "cell_type": "code",
   "execution_count": 62,
   "metadata": {},
   "outputs": [],
   "source": [
    "X_train, X_test, y_train, y_test = tts(X, y, random_state = 42)"
   ]
  },
  {
   "cell_type": "code",
   "execution_count": 63,
   "metadata": {},
   "outputs": [],
   "source": [
    "count_vec = feature_extraction.text.CountVectorizer"
   ]
  },
  {
   "cell_type": "code",
   "execution_count": 64,
   "metadata": {},
   "outputs": [],
   "source": [
    "struct = [('c_vec', count_vec()), ('clf', linear_model.LogisticRegression(max_iter=1000))]"
   ]
  },
  {
   "cell_type": "code",
   "execution_count": 65,
   "metadata": {},
   "outputs": [],
   "source": [
    "from sklearn.pipeline import Pipeline"
   ]
  },
  {
   "cell_type": "code",
   "execution_count": 66,
   "metadata": {},
   "outputs": [],
   "source": [
    "pipe = Pipeline(struct, verbose = True)"
   ]
  },
  {
   "cell_type": "code",
   "execution_count": 67,
   "metadata": {},
   "outputs": [
    {
     "data": {
      "text/plain": [
       "Pipeline(steps=[('c_vec', CountVectorizer()),\n",
       "                ('clf', LogisticRegression(max_iter=1000))],\n",
       "         verbose=True)"
      ]
     },
     "execution_count": 67,
     "metadata": {},
     "output_type": "execute_result"
    }
   ],
   "source": [
    "pipe"
   ]
  }
 ],
 "metadata": {
  "kernelspec": {
   "display_name": "Python 3.8.2 64-bit",
   "language": "python",
   "name": "python38264bit90a51463f4b84477ac22331f492a9246"
  },
  "language_info": {
   "codemirror_mode": {
    "name": "ipython",
    "version": 3
   },
   "file_extension": ".py",
   "mimetype": "text/x-python",
   "name": "python",
   "nbconvert_exporter": "python",
   "pygments_lexer": "ipython3",
   "version": "3.8.2"
  }
 },
 "nbformat": 4,
 "nbformat_minor": 4
}
