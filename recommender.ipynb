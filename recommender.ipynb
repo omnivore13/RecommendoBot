{
 "cells": [
  {
   "cell_type": "code",
   "execution_count": 1,
   "metadata": {},
   "outputs": [],
   "source": [
    "import pandas as pd\n",
    "import matplotlib.pyplot as plt\n",
    "from sklearn import *\n",
    "import json\n",
    "import numpy as np\n",
    "import string\n",
    "from datetime import *\n",
    "import re"
   ]
  },
  {
   "cell_type": "code",
   "execution_count": 2,
   "metadata": {},
   "outputs": [],
   "source": [
    "df = pd.read_json('all_movies.json').T"
   ]
  },
  {
   "cell_type": "code",
   "execution_count": 3,
   "metadata": {},
   "outputs": [
    {
     "data": {
      "text/plain": [
       "title             16\n",
       "release           29\n",
       "popularity        16\n",
       "budget            16\n",
       "genres            16\n",
       "overview          16\n",
       "language          16\n",
       "votes             16\n",
       "status            16\n",
       "cast              16\n",
       "director          35\n",
       "screenwriter    1326\n",
       "producer         423\n",
       "music           2674\n",
       "dtype: int64"
      ]
     },
     "execution_count": 3,
     "metadata": {},
     "output_type": "execute_result"
    }
   ],
   "source": [
    "df.isna().sum()"
   ]
  },
  {
   "cell_type": "code",
   "execution_count": 4,
   "metadata": {},
   "outputs": [],
   "source": [
    "df.dropna(subset=['title', 'release'], inplace = True)"
   ]
  },
  {
   "cell_type": "code",
   "execution_count": 5,
   "metadata": {},
   "outputs": [
    {
     "data": {
      "text/plain": [
       "title              0\n",
       "release            0\n",
       "popularity         0\n",
       "budget             0\n",
       "genres             0\n",
       "overview           0\n",
       "language           0\n",
       "votes              0\n",
       "status             0\n",
       "cast               0\n",
       "director          12\n",
       "screenwriter    1299\n",
       "producer         398\n",
       "music           2645\n",
       "dtype: int64"
      ]
     },
     "execution_count": 5,
     "metadata": {},
     "output_type": "execute_result"
    }
   ],
   "source": [
    "df.isna().sum()"
   ]
  },
  {
   "cell_type": "code",
   "execution_count": 6,
   "metadata": {},
   "outputs": [],
   "source": [
    "df[['release', 'votes']] = df[['release', 'votes']].astype('int64')\n",
    "df[['popularity', 'budget']] = df[['popularity','budget']].astype('float64')"
   ]
  },
  {
   "cell_type": "code",
   "execution_count": 7,
   "metadata": {},
   "outputs": [],
   "source": [
    "df.drop_duplicates(subset=['title'], ignore_index=True, inplace=True)\n",
    "# Drop instances where title is duplicated. Result of bad choice in search query\n",
    "df.set_index('title', inplace= True)"
   ]
  },
  {
   "cell_type": "code",
   "execution_count": 8,
   "metadata": {},
   "outputs": [],
   "source": [
    "df = df[np.logical_not(df['director'].isna() & df['screenwriter'].isna() & df['producer'].isna() & df['music'].isna())]\n",
    "#Filtered out movies whose director, screenwriter, producer and music director are all not available\n",
    "df = df[np.logical_not(df['screenwriter'].isna() & df['producer'].isna() & df['music'].isna())]"
   ]
  },
  {
   "cell_type": "code",
   "execution_count": 9,
   "metadata": {},
   "outputs": [],
   "source": [
    "df = df.dropna(subset=['director'])"
   ]
  },
  {
   "cell_type": "code",
   "execution_count": 10,
   "metadata": {},
   "outputs": [
    {
     "data": {
      "text/html": [
       "<div>\n",
       "<style scoped>\n",
       "    .dataframe tbody tr th:only-of-type {\n",
       "        vertical-align: middle;\n",
       "    }\n",
       "\n",
       "    .dataframe tbody tr th {\n",
       "        vertical-align: top;\n",
       "    }\n",
       "\n",
       "    .dataframe thead th {\n",
       "        text-align: right;\n",
       "    }\n",
       "</style>\n",
       "<table border=\"1\" class=\"dataframe\">\n",
       "  <thead>\n",
       "    <tr style=\"text-align: right;\">\n",
       "      <th></th>\n",
       "      <th>release</th>\n",
       "      <th>popularity</th>\n",
       "      <th>budget</th>\n",
       "      <th>genres</th>\n",
       "      <th>overview</th>\n",
       "      <th>language</th>\n",
       "      <th>votes</th>\n",
       "      <th>cast</th>\n",
       "      <th>director</th>\n",
       "      <th>screenwriter</th>\n",
       "      <th>producer</th>\n",
       "      <th>music</th>\n",
       "    </tr>\n",
       "    <tr>\n",
       "      <th>status</th>\n",
       "      <th></th>\n",
       "      <th></th>\n",
       "      <th></th>\n",
       "      <th></th>\n",
       "      <th></th>\n",
       "      <th></th>\n",
       "      <th></th>\n",
       "      <th></th>\n",
       "      <th></th>\n",
       "      <th></th>\n",
       "      <th></th>\n",
       "      <th></th>\n",
       "    </tr>\n",
       "  </thead>\n",
       "  <tbody>\n",
       "    <tr>\n",
       "      <th>Post Production</th>\n",
       "      <td>1</td>\n",
       "      <td>1</td>\n",
       "      <td>1</td>\n",
       "      <td>1</td>\n",
       "      <td>1</td>\n",
       "      <td>1</td>\n",
       "      <td>1</td>\n",
       "      <td>1</td>\n",
       "      <td>1</td>\n",
       "      <td>0</td>\n",
       "      <td>1</td>\n",
       "      <td>0</td>\n",
       "    </tr>\n",
       "    <tr>\n",
       "      <th>Released</th>\n",
       "      <td>2810</td>\n",
       "      <td>2810</td>\n",
       "      <td>2810</td>\n",
       "      <td>2810</td>\n",
       "      <td>2810</td>\n",
       "      <td>2810</td>\n",
       "      <td>2810</td>\n",
       "      <td>2810</td>\n",
       "      <td>2810</td>\n",
       "      <td>1816</td>\n",
       "      <td>2702</td>\n",
       "      <td>494</td>\n",
       "    </tr>\n",
       "  </tbody>\n",
       "</table>\n",
       "</div>"
      ],
      "text/plain": [
       "                 release  popularity  budget  genres  overview  language  \\\n",
       "status                                                                     \n",
       "Post Production        1           1       1       1         1         1   \n",
       "Released            2810        2810    2810    2810      2810      2810   \n",
       "\n",
       "                 votes  cast  director  screenwriter  producer  music  \n",
       "status                                                                 \n",
       "Post Production      1     1         1             0         1      0  \n",
       "Released          2810  2810      2810          1816      2702    494  "
      ]
     },
     "execution_count": 10,
     "metadata": {},
     "output_type": "execute_result"
    }
   ],
   "source": [
    "df.groupby('status').count()"
   ]
  },
  {
   "cell_type": "code",
   "execution_count": 11,
   "metadata": {},
   "outputs": [],
   "source": [
    "df = df[df['status'] == 'Released']"
   ]
  },
  {
   "cell_type": "code",
   "execution_count": 12,
   "metadata": {},
   "outputs": [
    {
     "data": {
      "text/html": [
       "<div>\n",
       "<style scoped>\n",
       "    .dataframe tbody tr th:only-of-type {\n",
       "        vertical-align: middle;\n",
       "    }\n",
       "\n",
       "    .dataframe tbody tr th {\n",
       "        vertical-align: top;\n",
       "    }\n",
       "\n",
       "    .dataframe thead th {\n",
       "        text-align: right;\n",
       "    }\n",
       "</style>\n",
       "<table border=\"1\" class=\"dataframe\">\n",
       "  <thead>\n",
       "    <tr style=\"text-align: right;\">\n",
       "      <th></th>\n",
       "      <th>release</th>\n",
       "      <th>popularity</th>\n",
       "      <th>budget</th>\n",
       "      <th>genres</th>\n",
       "      <th>overview</th>\n",
       "      <th>language</th>\n",
       "      <th>votes</th>\n",
       "      <th>cast</th>\n",
       "      <th>director</th>\n",
       "      <th>screenwriter</th>\n",
       "      <th>producer</th>\n",
       "      <th>music</th>\n",
       "    </tr>\n",
       "    <tr>\n",
       "      <th>status</th>\n",
       "      <th></th>\n",
       "      <th></th>\n",
       "      <th></th>\n",
       "      <th></th>\n",
       "      <th></th>\n",
       "      <th></th>\n",
       "      <th></th>\n",
       "      <th></th>\n",
       "      <th></th>\n",
       "      <th></th>\n",
       "      <th></th>\n",
       "      <th></th>\n",
       "    </tr>\n",
       "  </thead>\n",
       "  <tbody>\n",
       "    <tr>\n",
       "      <th>Released</th>\n",
       "      <td>2810</td>\n",
       "      <td>2810</td>\n",
       "      <td>2810</td>\n",
       "      <td>2810</td>\n",
       "      <td>2810</td>\n",
       "      <td>2810</td>\n",
       "      <td>2810</td>\n",
       "      <td>2810</td>\n",
       "      <td>2810</td>\n",
       "      <td>1816</td>\n",
       "      <td>2702</td>\n",
       "      <td>494</td>\n",
       "    </tr>\n",
       "  </tbody>\n",
       "</table>\n",
       "</div>"
      ],
      "text/plain": [
       "          release  popularity  budget  genres  overview  language  votes  \\\n",
       "status                                                                     \n",
       "Released     2810        2810    2810    2810      2810      2810   2810   \n",
       "\n",
       "          cast  director  screenwriter  producer  music  \n",
       "status                                                   \n",
       "Released  2810      2810          1816      2702    494  "
      ]
     },
     "execution_count": 12,
     "metadata": {},
     "output_type": "execute_result"
    }
   ],
   "source": [
    "df.groupby('status').count()"
   ]
  },
  {
   "cell_type": "code",
   "execution_count": 13,
   "metadata": {},
   "outputs": [],
   "source": [
    "df = df[df['status'] == 'Released']"
   ]
  },
  {
   "cell_type": "code",
   "execution_count": 14,
   "metadata": {},
   "outputs": [],
   "source": [
    "def isEmpty(lst):\n",
    "    if lst == []:\n",
    "        return True\n",
    "    return False"
   ]
  },
  {
   "cell_type": "code",
   "execution_count": 15,
   "metadata": {},
   "outputs": [],
   "source": [
    "exists = []\n",
    "for cast in df['cast']:\n",
    "    exists.append(isEmpty(cast))\n",
    "exists = np.logical_not(exists)\n",
    "#Movies for which the cast has not been recorded"
   ]
  },
  {
   "cell_type": "code",
   "execution_count": 16,
   "metadata": {},
   "outputs": [],
   "source": [
    "df = df[exists]"
   ]
  },
  {
   "cell_type": "code",
   "execution_count": 17,
   "metadata": {},
   "outputs": [
    {
     "data": {
      "text/html": [
       "<div>\n",
       "<style scoped>\n",
       "    .dataframe tbody tr th:only-of-type {\n",
       "        vertical-align: middle;\n",
       "    }\n",
       "\n",
       "    .dataframe tbody tr th {\n",
       "        vertical-align: top;\n",
       "    }\n",
       "\n",
       "    .dataframe thead th {\n",
       "        text-align: right;\n",
       "    }\n",
       "</style>\n",
       "<table border=\"1\" class=\"dataframe\">\n",
       "  <thead>\n",
       "    <tr style=\"text-align: right;\">\n",
       "      <th></th>\n",
       "      <th>release</th>\n",
       "      <th>popularity</th>\n",
       "      <th>budget</th>\n",
       "      <th>genres</th>\n",
       "      <th>overview</th>\n",
       "      <th>language</th>\n",
       "      <th>votes</th>\n",
       "      <th>status</th>\n",
       "      <th>cast</th>\n",
       "      <th>director</th>\n",
       "      <th>screenwriter</th>\n",
       "      <th>producer</th>\n",
       "      <th>music</th>\n",
       "    </tr>\n",
       "    <tr>\n",
       "      <th>title</th>\n",
       "      <th></th>\n",
       "      <th></th>\n",
       "      <th></th>\n",
       "      <th></th>\n",
       "      <th></th>\n",
       "      <th></th>\n",
       "      <th></th>\n",
       "      <th></th>\n",
       "      <th></th>\n",
       "      <th></th>\n",
       "      <th></th>\n",
       "      <th></th>\n",
       "      <th></th>\n",
       "    </tr>\n",
       "  </thead>\n",
       "  <tbody>\n",
       "    <tr>\n",
       "      <th>All About Eve</th>\n",
       "      <td>1950</td>\n",
       "      <td>18.255</td>\n",
       "      <td>1400000.0</td>\n",
       "      <td>[Drama]</td>\n",
       "      <td>From the moment she glimpses her idol at the s...</td>\n",
       "      <td>en</td>\n",
       "      <td>879</td>\n",
       "      <td>Released</td>\n",
       "      <td>[Bette Davis, Anne Baxter, George Sanders]</td>\n",
       "      <td>Joseph L. Mankiewicz</td>\n",
       "      <td>Joseph L. Mankiewicz</td>\n",
       "      <td>Darryl F. Zanuck</td>\n",
       "      <td>Urban Thielmann</td>\n",
       "    </tr>\n",
       "    <tr>\n",
       "      <th>Sunset Boulevard</th>\n",
       "      <td>1950</td>\n",
       "      <td>16.261</td>\n",
       "      <td>1752000.0</td>\n",
       "      <td>[Drama]</td>\n",
       "      <td>A hack screenwriter writes a screenplay for a ...</td>\n",
       "      <td>en</td>\n",
       "      <td>1396</td>\n",
       "      <td>Released</td>\n",
       "      <td>[William Holden, Gloria Swanson, Erich von Str...</td>\n",
       "      <td>Billy Wilder</td>\n",
       "      <td>Billy Wilder</td>\n",
       "      <td>Charles Brackett</td>\n",
       "      <td>None</td>\n",
       "    </tr>\n",
       "    <tr>\n",
       "      <th>In a Lonely Place</th>\n",
       "      <td>1950</td>\n",
       "      <td>9.921</td>\n",
       "      <td>0.0</td>\n",
       "      <td>[Mystery, Thriller]</td>\n",
       "      <td>An aspiring actress begins to suspect that her...</td>\n",
       "      <td>en</td>\n",
       "      <td>269</td>\n",
       "      <td>Released</td>\n",
       "      <td>[Humphrey Bogart, Gloria Grahame, Frank Lovejoy]</td>\n",
       "      <td>Nicholas Ray</td>\n",
       "      <td>Andrew Solt</td>\n",
       "      <td>Robert Lord</td>\n",
       "      <td>None</td>\n",
       "    </tr>\n",
       "    <tr>\n",
       "      <th>A Streetcar Named Desire</th>\n",
       "      <td>1951</td>\n",
       "      <td>13.575</td>\n",
       "      <td>1800000.0</td>\n",
       "      <td>[Drama]</td>\n",
       "      <td>Disturbed Blanche DuBois moves in with her sis...</td>\n",
       "      <td>en</td>\n",
       "      <td>744</td>\n",
       "      <td>Released</td>\n",
       "      <td>[Vivien Leigh, Marlon Brando, Kim Hunter]</td>\n",
       "      <td>Elia Kazan</td>\n",
       "      <td>Tennessee Williams</td>\n",
       "      <td>Charles K. Feldman</td>\n",
       "      <td>None</td>\n",
       "    </tr>\n",
       "    <tr>\n",
       "      <th>An American in Paris</th>\n",
       "      <td>1951</td>\n",
       "      <td>11.251</td>\n",
       "      <td>2723903.0</td>\n",
       "      <td>[Comedy, Drama, Music, Romance]</td>\n",
       "      <td>Jerry Mulligan is an exuberant American expatr...</td>\n",
       "      <td>en</td>\n",
       "      <td>318</td>\n",
       "      <td>Released</td>\n",
       "      <td>[Gene Kelly, Leslie Caron, Oscar Levant]</td>\n",
       "      <td>Vincente Minnelli</td>\n",
       "      <td>Alan Jay Lerner</td>\n",
       "      <td>Arthur Freed</td>\n",
       "      <td>George Gershwin</td>\n",
       "    </tr>\n",
       "  </tbody>\n",
       "</table>\n",
       "</div>"
      ],
      "text/plain": [
       "                          release  popularity     budget  \\\n",
       "title                                                      \n",
       "All About Eve                1950      18.255  1400000.0   \n",
       "Sunset Boulevard             1950      16.261  1752000.0   \n",
       "In a Lonely Place            1950       9.921        0.0   \n",
       "A Streetcar Named Desire     1951      13.575  1800000.0   \n",
       "An American in Paris         1951      11.251  2723903.0   \n",
       "\n",
       "                                                   genres  \\\n",
       "title                                                       \n",
       "All About Eve                                     [Drama]   \n",
       "Sunset Boulevard                                  [Drama]   \n",
       "In a Lonely Place                     [Mystery, Thriller]   \n",
       "A Streetcar Named Desire                          [Drama]   \n",
       "An American in Paris      [Comedy, Drama, Music, Romance]   \n",
       "\n",
       "                                                                   overview  \\\n",
       "title                                                                         \n",
       "All About Eve             From the moment she glimpses her idol at the s...   \n",
       "Sunset Boulevard          A hack screenwriter writes a screenplay for a ...   \n",
       "In a Lonely Place         An aspiring actress begins to suspect that her...   \n",
       "A Streetcar Named Desire  Disturbed Blanche DuBois moves in with her sis...   \n",
       "An American in Paris      Jerry Mulligan is an exuberant American expatr...   \n",
       "\n",
       "                         language  votes    status  \\\n",
       "title                                                \n",
       "All About Eve                  en    879  Released   \n",
       "Sunset Boulevard               en   1396  Released   \n",
       "In a Lonely Place              en    269  Released   \n",
       "A Streetcar Named Desire       en    744  Released   \n",
       "An American in Paris           en    318  Released   \n",
       "\n",
       "                                                                       cast  \\\n",
       "title                                                                         \n",
       "All About Eve                    [Bette Davis, Anne Baxter, George Sanders]   \n",
       "Sunset Boulevard          [William Holden, Gloria Swanson, Erich von Str...   \n",
       "In a Lonely Place          [Humphrey Bogart, Gloria Grahame, Frank Lovejoy]   \n",
       "A Streetcar Named Desire          [Vivien Leigh, Marlon Brando, Kim Hunter]   \n",
       "An American in Paris               [Gene Kelly, Leslie Caron, Oscar Levant]   \n",
       "\n",
       "                                      director          screenwriter  \\\n",
       "title                                                                  \n",
       "All About Eve             Joseph L. Mankiewicz  Joseph L. Mankiewicz   \n",
       "Sunset Boulevard                  Billy Wilder          Billy Wilder   \n",
       "In a Lonely Place                 Nicholas Ray           Andrew Solt   \n",
       "A Streetcar Named Desire            Elia Kazan    Tennessee Williams   \n",
       "An American in Paris         Vincente Minnelli       Alan Jay Lerner   \n",
       "\n",
       "                                    producer            music  \n",
       "title                                                          \n",
       "All About Eve               Darryl F. Zanuck  Urban Thielmann  \n",
       "Sunset Boulevard            Charles Brackett             None  \n",
       "In a Lonely Place                Robert Lord             None  \n",
       "A Streetcar Named Desire  Charles K. Feldman             None  \n",
       "An American in Paris            Arthur Freed  George Gershwin  "
      ]
     },
     "execution_count": 17,
     "metadata": {},
     "output_type": "execute_result"
    }
   ],
   "source": [
    "df.head()"
   ]
  },
  {
   "cell_type": "code",
   "execution_count": 18,
   "metadata": {},
   "outputs": [],
   "source": [
    "df.isna().sum()\n",
    "df.drop(['screenwriter', 'music', 'producer'], 1, inplace = True)"
   ]
  },
  {
   "cell_type": "code",
   "execution_count": 19,
   "metadata": {},
   "outputs": [],
   "source": [
    "def search_index(data:pd.DataFrame, query):\n",
    "    bool_list = []\n",
    "    for i in list(data.index):\n",
    "        bool_list.append(query.lower() in i.lower())\n",
    "    return data.loc[bool_list]"
   ]
  },
  {
   "cell_type": "code",
   "execution_count": 20,
   "metadata": {},
   "outputs": [],
   "source": [
    "genres = []\n",
    "for i, n in df.iterrows():\n",
    "    genres.extend(n['genres'])"
   ]
  },
  {
   "cell_type": "code",
   "execution_count": 21,
   "metadata": {},
   "outputs": [],
   "source": [
    "genre_dict = {}"
   ]
  },
  {
   "cell_type": "code",
   "execution_count": 22,
   "metadata": {},
   "outputs": [],
   "source": [
    "for genre in np.unique(genres):\n",
    "    genre_dict[genre] = []\n",
    "    for idx, row in df.iterrows():\n",
    "        genre_dict[genre].append(int(genre in row['genres']))"
   ]
  },
  {
   "cell_type": "code",
   "execution_count": 23,
   "metadata": {},
   "outputs": [],
   "source": [
    "for genre in genre_dict.keys():\n",
    "    df[genre] = genre_dict[genre]"
   ]
  },
  {
   "cell_type": "code",
   "execution_count": 24,
   "metadata": {},
   "outputs": [],
   "source": [
    "y = df[np.unique(genres)]"
   ]
  },
  {
   "cell_type": "code",
   "execution_count": 27,
   "metadata": {},
   "outputs": [],
   "source": [
    "feature_cols = ['release', 'popularity', 'budget', 'genres', 'overview', 'language',\n",
    "       'votes', 'status', 'cast', 'director']"
   ]
  },
  {
   "cell_type": "code",
   "execution_count": 28,
   "metadata": {},
   "outputs": [],
   "source": [
    "X = df[feature_cols]"
   ]
  },
  {
   "cell_type": "code",
   "execution_count": 38,
   "metadata": {},
   "outputs": [],
   "source": [
    "actors = []\n",
    "for i, n in df.iterrows():\n",
    "    actors.extend(n['cast'])"
   ]
  },
  {
   "cell_type": "code",
   "execution_count": null,
   "metadata": {},
   "outputs": [],
   "source": []
  }
 ],
 "metadata": {
  "kernelspec": {
   "display_name": "Python 3.8.2 64-bit",
   "language": "python",
   "name": "python38264bit90a51463f4b84477ac22331f492a9246"
  },
  "language_info": {
   "codemirror_mode": {
    "name": "ipython",
    "version": 3
   },
   "file_extension": ".py",
   "mimetype": "text/x-python",
   "name": "python",
   "nbconvert_exporter": "python",
   "pygments_lexer": "ipython3",
   "version": "3.8.2"
  }
 },
 "nbformat": 4,
 "nbformat_minor": 4
}
